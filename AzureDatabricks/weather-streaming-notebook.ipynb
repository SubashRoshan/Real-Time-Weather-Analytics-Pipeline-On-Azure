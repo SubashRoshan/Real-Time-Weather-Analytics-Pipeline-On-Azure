{
 "cells": [
  {
   "cell_type": "markdown",
   "metadata": {
    "application/vnd.databricks.v1+cell": {
     "cellMetadata": {},
     "inputWidgets": {},
     "nuid": "b8b04448-9c26-4b69-996e-d65f05d82355",
     "showTitle": false,
     "tableResultSettingsMap": {},
     "title": ""
    }
   },
   "source": [
    "\n",
    "## Sending a test event to the Event HUB"
   ]
  },
  {
   "cell_type": "code",
   "execution_count": 0,
   "metadata": {
    "application/vnd.databricks.v1+cell": {
     "cellMetadata": {
      "byteLimit": 2048000,
      "rowLimit": 10000
     },
     "inputWidgets": {},
     "nuid": "093b2031-4240-4899-899b-369701922661",
     "showTitle": false,
     "tableResultSettingsMap": {},
     "title": ""
    }
   },
   "outputs": [],
   "source": [
    "from azure.eventhub import EventHubProducerClient, EventData\n",
    "import json\n",
    "\n",
    "# Event Hub configuration\n",
    "# Getting secret value from Key Vault\n",
    "eventhub_connection_string = dbutils.secrets.get(scope=\"databricks-scope\", key=\"event-hub-primary-connection-string\")\n",
    "\n",
    "EVENT_HUB_NAME = \"weather-alerts-event-hub\"\n",
    "\n",
    "# Initialize the Event Hub producer\n",
    "producer = EventHubProducerClient.from_connection_string (\n",
    "                conn_str = eventhub_connection_string, \n",
    "                eventhub_name = EVENT_HUB_NAME\n",
    "            )\n",
    "\n",
    "# Function to send events to Event Hub\n",
    "def send_event(event):\n",
    "    event_data_batch = producer.create_batch()\n",
    "    event_data_batch.add(EventData(json.dumps(event)))\n",
    "    producer.send_batch(event_data_batch)\n",
    "\n",
    "# Sample JSON event\n",
    "event = {\n",
    "    \"event_id\": 1111,\n",
    "    \"event_name\": \"Key Vault Test\",\n",
    "}\n",
    "\n",
    "# Send the event\n",
    "send_event(event)\n",
    "\n",
    "# Close the producer\n",
    "producer.close()"
   ]
  }
 ],
 "metadata": {
  "application/vnd.databricks.v1+notebook": {
   "computePreferences": null,
   "dashboards": [],
   "environmentMetadata": {
    "base_environment": "",
    "environment_version": "2"
   },
   "language": "python",
   "notebookMetadata": {
    "pythonIndentUnit": 4
   },
   "notebookName": "weather-streaming-notebook",
   "widgets": {}
  },
  "language_info": {
   "name": "python"
  }
 },
 "nbformat": 4,
 "nbformat_minor": 0
}
