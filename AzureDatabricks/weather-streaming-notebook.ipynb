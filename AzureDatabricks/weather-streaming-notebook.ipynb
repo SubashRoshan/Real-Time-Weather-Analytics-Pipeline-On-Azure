{
 "cells": [
  {
   "cell_type": "markdown",
   "metadata": {
    "application/vnd.databricks.v1+cell": {
     "cellMetadata": {},
     "inputWidgets": {},
     "nuid": "b8b04448-9c26-4b69-996e-d65f05d82355",
     "showTitle": false,
     "tableResultSettingsMap": {},
     "title": ""
    }
   },
   "source": [
    "\n",
    "### Sending a test event to the Event HUB"
   ]
  },
  {
   "cell_type": "code",
   "execution_count": 0,
   "metadata": {
    "application/vnd.databricks.v1+cell": {
     "cellMetadata": {
      "byteLimit": 2048000,
      "rowLimit": 10000
     },
     "inputWidgets": {},
     "nuid": "093b2031-4240-4899-899b-369701922661",
     "showTitle": false,
     "tableResultSettingsMap": {},
     "title": ""
    }
   },
   "outputs": [],
   "source": [
    "from azure.eventhub import EventHubProducerClient, EventData\n",
    "import json\n",
    "\n",
    "# Event Hub configuration\n",
    "# Getting secret value from Key Vault\n",
    "EVENT_HUB_CONNECTION_STRING = dbutils.secrets.get(scope=\"databricks-scope\", key=\"event-hub-primary-connection-string\")\n",
    "EVENT_HUB_NAME = \"weather-alerts-event-hub\"\n",
    "\n",
    "# Initialize the Event Hub producer\n",
    "producer = EventHubProducerClient.from_connection_string ( \n",
    "                conn_str = EVENT_HUB_CONNECTION_STRING, \n",
    "                eventhub_name = EVENT_HUB_NAME\n",
    "            )\n",
    "\n",
    "# Function to send events to Event Hub\n",
    "def send_event(event):\n",
    "    event_data_batch = producer.create_batch()\n",
    "    event_data_batch.add(EventData(json.dumps(event)))\n",
    "    producer.send_batch(event_data_batch)\n",
    "\n",
    "# Sample JSON event\n",
    "event = {\n",
    "    \"event_id\": 2222,\n",
    "    \"event_name\": \"Key Vault Test\",\n",
    "}\n",
    "\n",
    "# Send the event\n",
    "send_event(event)\n",
    "\n",
    "# Close the producer\n",
    "producer.close()"
   ]
  },
  {
   "cell_type": "markdown",
   "metadata": {
    "application/vnd.databricks.v1+cell": {
     "cellMetadata": {},
     "inputWidgets": {},
     "nuid": "5e392073-2f68-45e8-880e-f03229d27c4c",
     "showTitle": false,
     "tableResultSettingsMap": {},
     "title": ""
    }
   },
   "source": [
    "\n",
    "### API Testing"
   ]
  },
  {
   "cell_type": "code",
   "execution_count": 0,
   "metadata": {
    "application/vnd.databricks.v1+cell": {
     "cellMetadata": {
      "byteLimit": 2048000,
      "rowLimit": 10000
     },
     "inputWidgets": {},
     "nuid": "1635f8f7-7544-4198-9f93-b8e36e3190c0",
     "showTitle": false,
     "tableResultSettingsMap": {},
     "title": ""
    }
   },
   "outputs": [],
   "source": [
    "import requests\n",
    "import json\n",
    "\n",
    "# Getting secret value from Key Vault\n",
    "weatherapikey = dbutils.secrets.get(scope=\"databricks-scope\", key=\"weather-api-key\")\n",
    "location = \"Chennai\" \n",
    "\n",
    "base_url = \"http://api.weatherapi.com/v1/\"\n",
    "\n",
    "current_weather_url = f\"{base_url}/current.json\"\n",
    "\n",
    "params = {\n",
    "    'key': weatherapikey,\n",
    "    'q': location,\n",
    "}\n",
    "response = requests.get(current_weather_url, params = params)\n",
    "\n",
    "if response.status_code == 200:\n",
    "    current_weather = response.json()\n",
    "    print(\"Current Weather:\")\n",
    "    print(json.dumps(current_weather, indent=3))\n",
    "else:\n",
    "    print(f\"Error: {response.status_code}, {response.text}\")"
   ]
  },
  {
   "cell_type": "markdown",
   "metadata": {
    "application/vnd.databricks.v1+cell": {
     "cellMetadata": {},
     "inputWidgets": {},
     "nuid": "7b3b706d-af43-4693-a164-fcd8ae00224a",
     "showTitle": false,
     "tableResultSettingsMap": {},
     "title": ""
    }
   },
   "source": [
    "\n",
    "## Sending the complete weather data to the Event HUB"
   ]
  },
  {
   "cell_type": "code",
   "execution_count": 0,
   "metadata": {
    "application/vnd.databricks.v1+cell": {
     "cellMetadata": {
      "byteLimit": 2048000,
      "rowLimit": 10000
     },
     "inputWidgets": {},
     "nuid": "567aa493-b87a-4968-9e9e-648e9c147850",
     "showTitle": false,
     "tableResultSettingsMap": {},
     "title": ""
    }
   },
   "outputs": [],
   "source": [
    "import requests\n",
    "import json\n",
    "from azure.eventhub import EventHubProducerClient, EventData\n",
    "\n",
    "\n",
    "\n",
    "\n",
    "\n",
    "# Function to send events to Event Hub\n",
    "def send_event(event):\n",
    "    # Event Hub configuration\n",
    "    # Getting secret value from Key Vault\n",
    "    EVENT_HUB_CONNECTION_STRING = dbutils.secrets.get(scope=\"databricks-scope\", key=\"event-hub-primary-connection-string\")\n",
    "    EVENT_HUB_NAME = \"weather-alerts-event-hub\"\n",
    "\n",
    "    # Initialize the Event Hub producer\n",
    "    producer = EventHubProducerClient.from_connection_string(conn_str=EVENT_HUB_CONNECTION_STRING, eventhub_name=EVENT_HUB_NAME)\n",
    "\n",
    "    # Create a batch and send to event hub\n",
    "    event_data_batch = producer.create_batch()\n",
    "    event_data_batch.add(EventData(json.dumps(event)))\n",
    "    producer.send_batch(event_data_batch)\n",
    "\n",
    "# Function to handle the API response\n",
    "def handle_response(response):\n",
    "    if response.status_code == 200:\n",
    "        return response.json()\n",
    "    else:\n",
    "        return f\"Error: {response.status_code}, {response.text}\"\n",
    "\n",
    "# Function to get current weather and air quality data\n",
    "def get_current_weather(base_url, api_key, location):\n",
    "    current_weather_url = f\"{base_url}/current.json\"\n",
    "    params = {\n",
    "        'key': api_key,\n",
    "        'q': location,\n",
    "        \"aqi\": 'yes'\n",
    "    }\n",
    "    response = requests.get(current_weather_url, params=params)\n",
    "    return handle_response(response)\n",
    "\n",
    "# Function to get Forecast Data\n",
    "def get_forecast_weather(base_url, api_key, location, days):\n",
    "    forecast_url = f\"{base_url}/forecast.json\"\n",
    "    params = {\n",
    "        \"key\": api_key,\n",
    "        \"q\": location,\n",
    "        \"days\": days,\n",
    "    }\n",
    "    response = requests.get(forecast_url, params=params)\n",
    "    return handle_response(response)\n",
    "\n",
    "# Function to get Alerts\n",
    "def get_alerts(base_url, api_key, location):\n",
    "    alerts_url = f\"{base_url}/alerts.json\"\n",
    "    params = {\n",
    "        'key': api_key,\n",
    "        'q': location,\n",
    "        \"alerts\": 'yes'\n",
    "    }\n",
    "    response = requests.get(alerts_url, params=params)\n",
    "    return handle_response(response)\n",
    "\n",
    "# Flatten and merge the data\n",
    "def flatten_data(current_weather, forecast_weather, alerts):\n",
    "    location_data = current_weather.get(\"location\", {})\n",
    "    current = current_weather.get(\"current\", {})\n",
    "    condition = current.get(\"condition\", {})\n",
    "    air_quality = current.get(\"air_quality\", {})\n",
    "    forecast = forecast_weather.get(\"forecast\", {}).get(\"forecastday\", [])\n",
    "    alert_list = alerts.get(\"alerts\", {}).get(\"alert\", [])\n",
    "\n",
    "    flattened_data = {\n",
    "        'name': location_data.get('name'),\n",
    "        'region': location_data.get('region'),\n",
    "        'country': location_data.get('country'),\n",
    "        'lat': location_data.get('lat'),\n",
    "        'lon': location_data.get('lon'),\n",
    "        'localtime': location_data.get('localtime'),\n",
    "        'temp_c': current.get('temp_c'),\n",
    "        'is_day': current.get('is_day'),\n",
    "        'condition_text': condition.get('text'),\n",
    "        'condition_icon': condition.get('icon'),\n",
    "        'wind_kph': current.get('wind_kph'),\n",
    "        'wind_degree': current.get('wind_degree'),\n",
    "        'wind_dir': current.get('wind_dir'),\n",
    "        'pressure_in': current.get('pressure_in'),\n",
    "        'precip_in': current.get('precip_in'),\n",
    "        'humidity': current.get('humidity'),\n",
    "        'cloud': current.get('cloud'),\n",
    "        'feelslike_c': current.get('feelslike_c'),\n",
    "        'uv': current.get('uv'),\n",
    "        'air_quality': {\n",
    "            'co': air_quality.get('co'),\n",
    "            'no2': air_quality.get('no2'),\n",
    "            'o3': air_quality.get('o3'),\n",
    "            'so2': air_quality.get('so2'),\n",
    "            'pm2_5': air_quality.get('pm2_5'),\n",
    "            'pm10': air_quality.get('pm10'),\n",
    "            'us-epa-index': air_quality.get('us-epa-index'),\n",
    "            'gb-defra-index': air_quality.get('gb-defra-index')\n",
    "        },\n",
    "        'alerts': [\n",
    "            {\n",
    "                'headline': alert.get('headline'),\n",
    "                'severity': alert.get('severity'),\n",
    "                'description': alert.get('desc'),\n",
    "                'instruction': alert.get('instruction')\n",
    "            }\n",
    "            for alert in alert_list\n",
    "        ],\n",
    "        'forecast': [\n",
    "            {\n",
    "                'date': day.get('date'),\n",
    "                'maxtemp_c': day.get('day', {}).get('maxtemp_c'),\n",
    "                'mintemp_c': day.get('day', {}).get('mintemp_c'),\n",
    "                'condition': day.get('day', {}).get('condition', {}).get('text')\n",
    "            }\n",
    "            for day in forecast\n",
    "        ]\n",
    "    }\n",
    "    return flattened_data\n",
    "\n",
    "# Main program\n",
    "def fetch_weather_data():\n",
    "\n",
    "    base_url = \"http://api.weatherapi.com/v1/\"\n",
    "    location = \"Chennai\"  # You can replace with any city name based on your preference\n",
    "    weatherapikey = dbutils.secrets.get(scope=\"databricks-scope\", key=\"weather-api-key\")\n",
    "\n",
    "    # Get data from API\n",
    "    current_weather = get_current_weather(base_url, weatherapikey, location)\n",
    "    forecast_weather = get_forecast_weather(base_url, weatherapikey, location, 3)\n",
    "    alerts = get_alerts(base_url, weatherapikey, location)\n",
    "\n",
    "    # Flatten and merge data\n",
    "    merged_data = flatten_data(current_weather, forecast_weather, alerts)\n",
    "\n",
    "    return merged_data\n",
    "    \n",
    "\n",
    "# Calling the Main Program\n",
    "weather_date = fetch_weather_data()\n",
    "\n",
    "# Sending the weather data to Event HUB\n",
    "send_event(weather_date)"
   ]
  },
  {
   "cell_type": "markdown",
   "metadata": {
    "application/vnd.databricks.v1+cell": {
     "cellMetadata": {},
     "inputWidgets": {},
     "nuid": "726ba620-e8af-49a7-9155-1e35052523aa",
     "showTitle": false,
     "tableResultSettingsMap": {},
     "title": ""
    }
   },
   "source": [
    "\n",
    "## Set up streaming capability for every 30 seconds"
   ]
  },
  {
   "cell_type": "code",
   "execution_count": 0,
   "metadata": {
    "application/vnd.databricks.v1+cell": {
     "cellMetadata": {
      "byteLimit": 2048000,
      "rowLimit": 10000
     },
     "inputWidgets": {},
     "nuid": "7cf85bb3-ca8c-43db-8ed5-177054a47da7",
     "showTitle": false,
     "tableResultSettingsMap": {},
     "title": ""
    }
   },
   "outputs": [],
   "source": [
    "from datetime import datetime, timedelta\n",
    "\n",
    "# Function to process each batch of streaming data\n",
    "last_sent_time = datetime.now() - timedelta(seconds=30)  # Initialize last sent time\n",
    "\n",
    "# Main program\n",
    "def process_batch(batch_df, batch_id):\n",
    "    global last_sent_time\n",
    "    try:\n",
    "        # Get current time\n",
    "        current_time = datetime.now()\n",
    "        \n",
    "        # Check if 30 seconds have passed since last event was sent\n",
    "        if (current_time - last_sent_time).total_seconds() >= 30:\n",
    "            # Fetch weather data\n",
    "            weather_data = fetch_weather_data()\n",
    "            \n",
    "            # Send the weather data (current weather part)\n",
    "            send_event(weather_data)\n",
    "\n",
    "            # Update last sent time\n",
    "            last_sent_time = current_time\n",
    "            print(f'Event Sent at {last_sent_time}')\n",
    "\n",
    "    except Exception as e:\n",
    "        print(f\"Error sending events in batch {batch_id}: {str(e)}\")\n",
    "        raise e\n",
    "\n",
    "# Set up a streaming source (for example, rate source for testing purposes)\n",
    "streaming_df = spark.readStream.format(\"rate\").option(\"rowsPerSecond\", 1).load()\n",
    "\n",
    "# Write the streaming data using foreachBatch to send weather data to Event Hub\n",
    "query = streaming_df.writeStream.foreachBatch(process_batch).start()\n",
    "\n",
    "query.awaitTermination()\n",
    "\n",
    "# Close the producer after termination\n",
    "producer.close()"
   ]
  }
 ],
 "metadata": {
  "application/vnd.databricks.v1+notebook": {
   "computePreferences": null,
   "dashboards": [],
   "environmentMetadata": {
    "base_environment": "",
    "environment_version": "2"
   },
   "language": "python",
   "notebookMetadata": {
    "pythonIndentUnit": 4
   },
   "notebookName": "weather-streaming-notebook",
   "widgets": {}
  },
  "language_info": {
   "name": "python"
  }
 },
 "nbformat": 4,
 "nbformat_minor": 0
}
